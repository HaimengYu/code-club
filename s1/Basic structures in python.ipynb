{
 "cells": [
  {
   "cell_type": "markdown",
   "metadata": {},
   "source": [
    "# Basic structures in python\n",
    "\n",
    "This notebook provides a quick overview on the basic data sources of python.\n",
    "\n",
    "Most of these have their equivalent in Matlab and other higher languages, so this should be a useful reminder. For example, `numpy.ones()` is the Matlab function equivalent of `ones()`.\n",
    "\n",
    "The structure of this notebook is:\n",
    "\n",
    "1. Vectors, matrices, dictionaries and lists\n",
    "2. How to work with functions, loops and conditionals\n",
    "3. Basics of plotting\n",
    "\n",
    "After working your way through it, you should be able to work your way through the `Solow Model Example`."
   ]
  },
  {
   "cell_type": "code",
   "execution_count": 9,
   "metadata": {
    "collapsed": false
   },
   "outputs": [],
   "source": [
    "# execute this cell before continuing (This line is a code comment, it doesn't execute!)\n",
    "# it loads the libraries (toolkits) we are going to use:\n",
    "\n",
    "import numpy as np                 # numpy is for vectors\n",
    "import matplotlib.pyplot as plt    # matplotlib is for plots\n",
    "import seaborn as sns              # seaborn is for nice plots\n",
    "from __future__ import division    # This makes 7/3 to return 3.5 (preventing typos!)\n",
    "\n",
    "# This below tells matplotlib to show the plots inside the notebook\n",
    "%matplotlib inline\n",
    "# This sets the style of plots. Try 'white' or 'darkgrid'!\n",
    "sns.set_style('whitegrid')"
   ]
  },
  {
   "cell_type": "markdown",
   "metadata": {},
   "source": [
    "## 1. Vectors, matrices, dictionaries and lists\n",
    "### Vectors\n",
    "\n",
    "In computational economics you will be using vectors a lot!\n",
    "\n",
    "In python we use Numpy Arrays, a structure that behaves as a vector. \n",
    "\n",
    "Here is the sintax (the magic words) to create and store a vector:"
   ]
  },
  {
   "cell_type": "code",
   "execution_count": 10,
   "metadata": {
    "collapsed": false
   },
   "outputs": [
    {
     "data": {
      "text/plain": [
       "array([1, 2, 3])"
      ]
     },
     "execution_count": 10,
     "metadata": {},
     "output_type": "execute_result"
    }
   ],
   "source": [
    "array1 = np.array([1,2,3])    # To insert a comment, just put a hashtag before it, like this.\n",
    "array1"
   ]
  },
  {
   "cell_type": "markdown",
   "metadata": {},
   "source": [
    "Now we can do stuff with it, like add it to other vectors, mutiply it..."
   ]
  },
  {
   "cell_type": "code",
   "execution_count": 11,
   "metadata": {
    "collapsed": false
   },
   "outputs": [
    {
     "name": "stdout",
     "output_type": "stream",
     "text": [
      "[2 4 6]\n",
      "[2 3 4]\n"
     ]
    }
   ],
   "source": [
    "print array1*2\n",
    "print array1+np.array([1,1,1])"
   ]
  },
  {
   "cell_type": "markdown",
   "metadata": {},
   "source": [
    "Can also make matrices"
   ]
  },
  {
   "cell_type": "code",
   "execution_count": 12,
   "metadata": {
    "collapsed": false
   },
   "outputs": [
    {
     "data": {
      "text/plain": [
       "array([[1, 2, 3],\n",
       "       [4, 5, 6],\n",
       "       [7, 8, 9]])"
      ]
     },
     "execution_count": 12,
     "metadata": {},
     "output_type": "execute_result"
    }
   ],
   "source": [
    "matrix1 = np.array(([1,2,3],\n",
    "                    [4,5,6],\n",
    "                    [7,8,9]))  # Define a matrix, store it in matrix1\n",
    "matrix1                        # Prints matrix1"
   ]
  },
  {
   "cell_type": "code",
   "execution_count": 18,
   "metadata": {
    "collapsed": false
   },
   "outputs": [
    {
     "data": {
      "text/plain": [
       "array([[ 2,  4,  6],\n",
       "       [ 8, 10, 12],\n",
       "       [14, 16, 18]])"
      ]
     },
     "execution_count": 18,
     "metadata": {},
     "output_type": "execute_result"
    }
   ],
   "source": [
    "matrix1*2  # To multiply by a scalar, item by item"
   ]
  },
  {
   "cell_type": "code",
   "execution_count": 19,
   "metadata": {
    "collapsed": false
   },
   "outputs": [
    {
     "name": "stdout",
     "output_type": "stream",
     "text": [
      "[[ 1  4  9]\n",
      " [16 25 36]\n",
      " [49 64 81]]\n"
     ]
    }
   ],
   "source": [
    "print matrix1**2 # To rise to a power, item by item"
   ]
  },
  {
   "cell_type": "code",
   "execution_count": 26,
   "metadata": {
    "collapsed": false
   },
   "outputs": [
    {
     "data": {
      "text/plain": [
       "array([[ 2,  2,  3],\n",
       "       [ 4,  6,  6],\n",
       "       [ 7,  8, 10]])"
      ]
     },
     "execution_count": 26,
     "metadata": {},
     "output_type": "execute_result"
    }
   ],
   "source": [
    "matrix2 = np.array(([1,0,0],\n",
    "                    [0,1,0],\n",
    "                    [0,0,1]))\n",
    "matrix2 + matrix1        # Addition (try substraction!)"
   ]
  },
  {
   "cell_type": "code",
   "execution_count": 15,
   "metadata": {
    "collapsed": false
   },
   "outputs": [
    {
     "data": {
      "text/plain": [
       "array([[1, 0, 0],\n",
       "       [0, 5, 0],\n",
       "       [0, 0, 9]])"
      ]
     },
     "execution_count": 15,
     "metadata": {},
     "output_type": "execute_result"
    }
   ],
   "source": [
    "matrix2*matrix1          # multiplication element by element (try division!)"
   ]
  },
  {
   "cell_type": "code",
   "execution_count": 16,
   "metadata": {
    "collapsed": false
   },
   "outputs": [
    {
     "data": {
      "text/plain": [
       "array([[1, 2, 3],\n",
       "       [4, 5, 6],\n",
       "       [7, 8, 9]])"
      ]
     },
     "execution_count": 16,
     "metadata": {},
     "output_type": "execute_result"
    }
   ],
   "source": [
    "np.dot(matrix2,matrix1)  # matrix multiplication"
   ]
  },
  {
   "cell_type": "code",
   "execution_count": 17,
   "metadata": {
    "collapsed": false
   },
   "outputs": [
    {
     "data": {
      "text/plain": [
       "array([[1, 2, 3, 0, 0, 0, 0, 0, 0],\n",
       "       [4, 5, 6, 0, 0, 0, 0, 0, 0],\n",
       "       [7, 8, 9, 0, 0, 0, 0, 0, 0],\n",
       "       [0, 0, 0, 1, 2, 3, 0, 0, 0],\n",
       "       [0, 0, 0, 4, 5, 6, 0, 0, 0],\n",
       "       [0, 0, 0, 7, 8, 9, 0, 0, 0],\n",
       "       [0, 0, 0, 0, 0, 0, 1, 2, 3],\n",
       "       [0, 0, 0, 0, 0, 0, 4, 5, 6],\n",
       "       [0, 0, 0, 0, 0, 0, 7, 8, 9]])"
      ]
     },
     "execution_count": 17,
     "metadata": {},
     "output_type": "execute_result"
    }
   ],
   "source": [
    "np.kron(matrix2,matrix1) # Kronecker product"
   ]
  },
  {
   "cell_type": "code",
   "execution_count": 30,
   "metadata": {
    "collapsed": false
   },
   "outputs": [
    {
     "data": {
      "text/plain": [
       "array([[  3.15251974e+15,  -6.30503948e+15,   3.15251974e+15],\n",
       "       [ -6.30503948e+15,   1.26100790e+16,  -6.30503948e+15],\n",
       "       [  3.15251974e+15,  -6.30503948e+15,   3.15251974e+15]])"
      ]
     },
     "execution_count": 30,
     "metadata": {},
     "output_type": "execute_result"
    }
   ],
   "source": [
    "np.linalg.inv(matrix1)  # Inverse of a matrix (try with matrix 2)"
   ]
  },
  {
   "cell_type": "markdown",
   "metadata": {},
   "source": [
    "Other useful vector/matrix functions:\n",
    "- `np.ones(n)`: Creates a vector of length `n` full of ones.\n",
    "- `np.zeros(n)`: Creates a vector of length `n` full of zeros.\n",
    "- `np.empty(n)`: Creates a vector of length `n` of empty values.\n",
    "- `np.eye(n)`: Creates an indentity matrix of dimension `n`.\n",
    "\n",
    "And you can see a complete list in [numpy's website](https://docs.scipy.org/doc/numpy/reference/routines.linalg.html).\n",
    "\n",
    "> **Tip:** You can always google if you get stuck. Yes, I'm asking you to google something to solve your problems! According to a computational macro jedi master \"There is always, somewhere, a nerd with lots of spare time with an answer for your question. You just have to go find it.\" \n",
    "\n",
    ">Try an google \"numpy inverse\" a an example.\n",
    "\n",
    "### Expanding vectors and changing values inside a vector\n",
    "\n",
    "Many times you will need to add to a vector (or a matrix) different numbers for that you'll need:\n",
    "\n",
    "- `np.hstack((X,Y))`: Pastes vector (matrix) `X` and `Y` togehter, horizontally.\n",
    "- `np.vstack((X,Y))`: Pastes vector (matrix) `X` and `Y` togehter, vertically."
   ]
  },
  {
   "cell_type": "code",
   "execution_count": 32,
   "metadata": {
    "collapsed": false
   },
   "outputs": [
    {
     "data": {
      "text/plain": [
       "array([1, 2, 3, 4])"
      ]
     },
     "execution_count": 32,
     "metadata": {},
     "output_type": "execute_result"
    }
   ],
   "source": [
    "np.hstack((array1,4))                    # Adds 4 at the end - mind the double parenthesis!"
   ]
  },
  {
   "cell_type": "code",
   "execution_count": 34,
   "metadata": {
    "collapsed": false
   },
   "outputs": [
    {
     "data": {
      "text/plain": [
       "array([[1, 2, 3],\n",
       "       [4, 5, 6]])"
      ]
     },
     "execution_count": 34,
     "metadata": {},
     "output_type": "execute_result"
    }
   ],
   "source": [
    "np.vstack((array1,np.array([4,5,6])))    # Stacks vertically. CAREFUL: they should be the same length!"
   ]
  },
  {
   "cell_type": "markdown",
   "metadata": {},
   "source": [
    "It works with matrices too.\n",
    "\n",
    ">Quick exercise: ammend the code above to stack `matrix1` and `matrix2`.\n",
    "\n",
    "\n",
    "#### Changing values inside a vector:"
   ]
  },
  {
   "cell_type": "code",
   "execution_count": 23,
   "metadata": {
    "collapsed": false
   },
   "outputs": [
    {
     "name": "stdout",
     "output_type": "stream",
     "text": [
      "[1 2 3]\n",
      "[1 2 4]\n"
     ]
    }
   ],
   "source": [
    "print array1\n",
    "array1[2]=4\n",
    "print array1"
   ]
  },
  {
   "cell_type": "markdown",
   "metadata": {},
   "source": [
    "Here there are 2 things you should have noticed:\n",
    "\n",
    "- Python starts counting from 0 (Matlab from 1).\n",
    "\n",
    "- Now we have changed `array1`, when before (we we were adding, multiplying and expanding) we didn't. This is because we use an `=` sign - we have assigned a new value to out variable. Careful with this! It is a great source of typos.\n",
    "\n",
    "> **Quick exercise:** Create a vector (0,0,0) add two new values (3 and 9) permanently. "
   ]
  },
  {
   "cell_type": "code",
   "execution_count": 35,
   "metadata": {
    "collapsed": false
   },
   "outputs": [],
   "source": [
    "# Code to create a zero vector here\n",
    "# Code to change two values here\n",
    "# Code to print your vector here"
   ]
  },
  {
   "cell_type": "markdown",
   "metadata": {},
   "source": [
    "#### Selecting values: \n",
    "\n",
    "For selecting (indexing) values we can use the square brackets.\n",
    "\n",
    "Example: From matrix1 defined above we pick the fist column and store it into a variable called col1:\n",
    "\n",
    " - `matrix1[:,0]` $ \\rightarrow$ from matrix1, pick all ( : ) the rows  and the first ( 0 ) column."
   ]
  },
  {
   "cell_type": "code",
   "execution_count": 27,
   "metadata": {
    "collapsed": false
   },
   "outputs": [
    {
     "data": {
      "text/plain": [
       "array([1, 4, 7])"
      ]
     },
     "execution_count": 27,
     "metadata": {},
     "output_type": "execute_result"
    }
   ],
   "source": [
    "col1 = matrix1[:,0]\n",
    "col1"
   ]
  },
  {
   "cell_type": "markdown",
   "metadata": {},
   "source": [
    ">Quick exercise: ammend the code above to select the first row instead of the first column.\n",
    "\n",
    "### 1.3 Lists\n",
    "\n",
    "### 1.4 Dictionaries"
   ]
  },
  {
   "cell_type": "markdown",
   "metadata": {},
   "source": [
    "## 2. How to work with functions, loops and conditionals\n",
    "### Functions\n",
    "\n",
    "We know that python comes with loaded in functions, and our libraries are actually big collections of functions (like `vstack`,`linalg.inv` and so on). But most of the time you'll need to define your own functions.\n",
    "\n",
    "To define a custon made function, the sintax is:\n",
    "\n",
    "`def function_name(variable):\n",
    "    result = f(variable)\n",
    "    return result`\n",
    "    \n",
    "Notice the indentation (things below def are shifted to the right). Take an example:"
   ]
  },
  {
   "cell_type": "code",
   "execution_count": 6,
   "metadata": {
    "collapsed": true
   },
   "outputs": [],
   "source": [
    "def square(x):\n",
    "    result = x**2\n",
    "    return result"
   ]
  },
  {
   "cell_type": "markdown",
   "metadata": {},
   "source": [
    "Now we can use our function:"
   ]
  },
  {
   "cell_type": "code",
   "execution_count": 33,
   "metadata": {
    "collapsed": false
   },
   "outputs": [
    {
     "name": "stdout",
     "output_type": "stream",
     "text": [
      "4\n",
      "[ 1  4 16]\n"
     ]
    }
   ],
   "source": [
    "print square(2)       # Square of a scalar (number)  \n",
    "print square(array1)  # It works with arrays (vectors) too!"
   ]
  },
  {
   "cell_type": "markdown",
   "metadata": {},
   "source": [
    "We can create functions that take more than one input.\n",
    "\n",
    "For example, take a look at this function:"
   ]
  },
  {
   "cell_type": "code",
   "execution_count": 36,
   "metadata": {
    "collapsed": true
   },
   "outputs": [],
   "source": [
    "def k_star(s,n,g,delta,alpha):\n",
    "    \"\"\"Returns the BGP level of capital per effective worker\"\"\" # Instructions / definition\n",
    "    result = (s/(n+g+delta))**(1/1-alpha)\n",
    "    return result  "
   ]
  },
  {
   "cell_type": "code",
   "execution_count": 38,
   "metadata": {
    "collapsed": false
   },
   "outputs": [
    {
     "data": {
      "text/plain": [
       "0.762112099102357"
      ]
     },
     "execution_count": 38,
     "metadata": {},
     "output_type": "execute_result"
    }
   ],
   "source": [
    "k_star(0.1,0.01,0.05,0.09,0.33)"
   ]
  },
  {
   "cell_type": "markdown",
   "metadata": {},
   "source": [
    "### Conditionals\n",
    "\n",
    "Conditionals are very useful structures. They check if a condition is met, and if it is, then they do something. They look like this:"
   ]
  },
  {
   "cell_type": "code",
   "execution_count": 39,
   "metadata": {
    "collapsed": false
   },
   "outputs": [
    {
     "name": "stdout",
     "output_type": "stream",
     "text": [
      "Four is greater than 0\n"
     ]
    }
   ],
   "source": [
    "if 4>0:   # 4 being greater than 0 is the condition\n",
    "    print \"Four is greater than 0\"\n",
    "else:     # In case the condition before is False\n",
    "    print \"WTF python\""
   ]
  },
  {
   "cell_type": "markdown",
   "metadata": {},
   "source": [
    "We can put them inside functions:"
   ]
  },
  {
   "cell_type": "code",
   "execution_count": 40,
   "metadata": {
    "collapsed": true
   },
   "outputs": [],
   "source": [
    "def even(x):\n",
    "    if x%2==0:\n",
    "        result = str(x)+\" is even\"  # string \"x is even\"\n",
    "        return result\n",
    "    else:\n",
    "        result = str(x)+\" is odd\"\n",
    "        return result"
   ]
  },
  {
   "cell_type": "code",
   "execution_count": 41,
   "metadata": {
    "collapsed": false
   },
   "outputs": [
    {
     "name": "stdout",
     "output_type": "stream",
     "text": [
      "7 is odd\n",
      "800 is even\n"
     ]
    }
   ],
   "source": [
    "print even(7)\n",
    "print even(800)"
   ]
  },
  {
   "cell_type": "markdown",
   "metadata": {},
   "source": [
    "## Loops\n",
    "\n",
    "Another very useful structure. I'll talk about `for` loops here only. \n",
    "\n",
    "These can be used to do a certain action a number of times. For example:"
   ]
  },
  {
   "cell_type": "code",
   "execution_count": 44,
   "metadata": {
    "collapsed": false
   },
   "outputs": [
    {
     "name": "stdout",
     "output_type": "stream",
     "text": [
      "Nananana\n",
      "Nananana\n",
      "Nananana\n",
      "Nananana\n",
      "Batman!\n"
     ]
    }
   ],
   "source": [
    "for i in range(4):    #range(4) will give you [0,1,2,3], but means \"do 4 times\"\n",
    "    print \"Nananana\"\n",
    "print \"Batman!\""
   ]
  },
  {
   "cell_type": "markdown",
   "metadata": {},
   "source": [
    "Or to perform operations with the elements of a vector or a list, for example:"
   ]
  },
  {
   "cell_type": "code",
   "execution_count": 45,
   "metadata": {
    "collapsed": false
   },
   "outputs": [
    {
     "name": "stdout",
     "output_type": "stream",
     "text": [
      "[ 0.]\n",
      "[ 0.  1.]\n",
      "[ 0.  1.  2.]\n",
      "[ 0.  1.  2.  3.]\n"
     ]
    }
   ],
   "source": [
    "starting_vector = np.empty(0)                          # Creates an empty vector\n",
    "\n",
    "for i in range(4):\n",
    "    starting_vector = np.hstack((starting_vector,i))   # Here we use the i for something, unlike the previous example\n",
    "    print starting_vector                              # This shows us progress"
   ]
  },
  {
   "cell_type": "markdown",
   "metadata": {},
   "source": [
    "##3. Basics of plotting\n",
    "\n",
    "We can use the matplotlib module (impoted above) to plot functions.\n",
    "\n",
    "The sintax goes like:"
   ]
  },
  {
   "cell_type": "code",
   "execution_count": 7,
   "metadata": {
    "collapsed": false
   },
   "outputs": [
    {
     "data": {
      "image/png": "[encoded data removed]",
      "text/plain": [
       "<matplotlib.figure.Figure at 0x108fbc5d0>"
      ]
     },
     "metadata": {},
     "output_type": "display_data"
    }
   ],
   "source": [
    "X = np.array(range(11))     # what will this give you?\n",
    "Y = square(X)\n",
    "\n",
    "plt.plot(X,Y)              # Plot a line passing though (x,y) points (both vectors must be the same length)\n",
    "plt.show()                 # This is for showing the picture nicely"
   ]
  },
  {
   "cell_type": "markdown",
   "metadata": {},
   "source": [
    "We can make this plot very fancy by playing around with the options of matplotlib. For example:"
   ]
  },
  {
   "cell_type": "code",
   "execution_count": 58,
   "metadata": {
    "collapsed": false
   },
   "outputs": [
    {
     "data": {
      "image/png": "[encoded data removed]",
      "text/plain": [
       "<matplotlib.figure.Figure at 0x1a703b00>"
      ]
     },
     "metadata": {},
     "output_type": "display_data"
    }
   ],
   "source": [
    "plt.plot(X,Y, label=\"squared value\")   # label tells what to print in the legend\n",
    "plt.scatter(X,Y, marker='o')           # this plots X and Y by drawing a cirlce in each point (no label, won't show in legend)\n",
    "plt.ylabel(\"$X^2$\", fontsize=16)       # label the y axis (notice the $$ signs)\n",
    "plt.xlabel(\"$X$\", fontsize=16)         # label the x axis (notice the $$ signs)\n",
    "plt.legend(loc='best', frameon=True)   # show the legend, with a frame (Frameon=True), in the best location (loc='best')\n",
    "plt.xlim(0,10)                         # sets the size of the x axis\n",
    "plt.ylim(0,100)                        # sets the size of the y axis\n",
    "plt.xticks(range(0,11))                # sets the ticks of the x axis\n",
    "plt.yticks(range(0,110,10))            # sets the ticks of the y axis (range(0,110,10) tells to count from 0 to 110, 10 by 10)\n",
    "plt.show()"
   ]
  }
 ],
 "metadata": {
  "kernelspec": {
   "display_name": "Python 2",
   "language": "python",
   "name": "python2"
  },
  "language_info": {
   "codemirror_mode": {
    "name": "ipython",
    "version": 2
   },
   "file_extension": ".py",
   "mimetype": "text/x-python",
   "name": "python",
   "nbconvert_exporter": "python",
   "pygments_lexer": "ipython2",
   "version": "2.7.10"
  }
 },
 "nbformat": 4,
 "nbformat_minor": 0
}
