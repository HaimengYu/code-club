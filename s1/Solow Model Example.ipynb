{
 "cells": [
  {
   "cell_type": "code",
   "execution_count": 1,
   "metadata": {
    "collapsed": false
   },
   "outputs": [
    {
     "name": "stderr",
     "output_type": "stream",
     "text": [
      ":0: FutureWarning: IPython widgets are experimental and may change in the future.\n"
     ]
    }
   ],
   "source": [
    "# execute this cell before continuing\n",
    "import numpy as np\n",
    "import matplotlib.pyplot as plt\n",
    "import seaborn as sns\n",
    "from __future__ import division\n",
    "%matplotlib inline\n",
    "sns.set_style('whitegrid')"
   ]
  },
  {
   "cell_type": "markdown",
   "metadata": {},
   "source": [
    "# Coding the Solow model\n",
    "\n",
    "## 1. Plotting the Solow model diagram\n",
    "\n",
    "For this you'll need:\n",
    "\n",
    "- A function that finds the steady-sate $k^{*}$, given parameters\n",
    "- A vector of $k$s\n",
    "- A fucntion that returns $sf(k)$, given $s$ and a vector of $k$s\n",
    "- A function that returns $(n+g+\\delta)k$, given parameters and a vector of $k$s\n",
    "- A plot that shows the two function above and marks $k^{*}$ with a dot or a star"
   ]
  },
  {
   "cell_type": "code",
   "execution_count": 3,
   "metadata": {
    "collapsed": true
   },
   "outputs": [],
   "source": [
    "# Define the steady state given parameters - this will give you an idea of the range of the vector of ks"
   ]
  },
  {
   "cell_type": "code",
   "execution_count": 2,
   "metadata": {
    "collapsed": true
   },
   "outputs": [],
   "source": [
    "# Define a vector of ks"
   ]
  },
  {
   "cell_type": "code",
   "execution_count": null,
   "metadata": {
    "collapsed": true
   },
   "outputs": [],
   "source": [
    "# Define the two functions sf(k) and (n+g+delta)k"
   ]
  },
  {
   "cell_type": "code",
   "execution_count": 4,
   "metadata": {
    "collapsed": true
   },
   "outputs": [],
   "source": [
    "# plot here"
   ]
  },
  {
   "cell_type": "markdown",
   "metadata": {},
   "source": [
    "## 2. Ploting a shock to $L_t$\n",
    "\n",
    "Suppose the economy starts at $t=0$ in steady state, but at $t=10$, $L_t$ doubles overnight. All parameters remain unchanged.\n",
    "\n",
    "Show a plot with the evolution of $k$ from $t=0$ to $t=100$. Has the economy gotten back to the steady state by t=100?\n",
    "\n",
    "For this you'll need:\n",
    "\n",
    "- A function for $\\dot{k_t}$\n",
    "- A vector with the value of $k_t$ at all 100 points.\n",
    "- A function for $k^{*}$ for the steady state\n",
    "- A plot"
   ]
  },
  {
   "cell_type": "code",
   "execution_count": 5,
   "metadata": {
    "collapsed": true
   },
   "outputs": [],
   "source": [
    "# Define k_dot as a function of parameters and the current value of k_t"
   ]
  },
  {
   "cell_type": "code",
   "execution_count": 6,
   "metadata": {
    "collapsed": true
   },
   "outputs": [],
   "source": [
    "# Create a k vector with 9 values equal to k*, then the 10th one the one just after the inlux of Lt"
   ]
  },
  {
   "cell_type": "code",
   "execution_count": 7,
   "metadata": {
    "collapsed": true
   },
   "outputs": [],
   "source": [
    "# Use your k_dot function to add the remaining values to your k vector"
   ]
  },
  {
   "cell_type": "code",
   "execution_count": null,
   "metadata": {
    "collapsed": true
   },
   "outputs": [],
   "source": [
    "# Plot your k vector against a vector with numbers 0 to 100"
   ]
  }
 ],
 "metadata": {
  "kernelspec": {
   "display_name": "Python 2",
   "language": "python",
   "name": "python2"
  },
  "language_info": {
   "codemirror_mode": {
    "name": "ipython",
    "version": 2
   },
   "file_extension": ".py",
   "mimetype": "text/x-python",
   "name": "python",
   "nbconvert_exporter": "python",
   "pygments_lexer": "ipython2",
   "version": "2.7.10"
  }
 },
 "nbformat": 4,
 "nbformat_minor": 0
}
